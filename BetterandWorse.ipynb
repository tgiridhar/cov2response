{
 "cells": [
  {
   "cell_type": "code",
   "execution_count": 1,
   "metadata": {},
   "outputs": [
    {
     "data": {
      "text/html": [
       "<h3>Which countries/states are improving and which are getting worse?</h3><h4>The trend is determined by the last 14 days new cases trend.</h4><h3></h3>"
      ],
      "text/plain": [
       "<IPython.core.display.HTML object>"
      ]
     },
     "metadata": {},
     "output_type": "display_data"
    },
    {
     "data": {
      "text/html": [
       "<a href=\"http://www.cov2response.com\"> Back to cov2response.com </a>"
      ],
      "text/plain": [
       "<IPython.core.display.HTML object>"
      ]
     },
     "metadata": {},
     "output_type": "display_data"
    }
   ],
   "source": [
    "import datetime\n",
    "import numpy as np\n",
    "import warnings\n",
    "warnings.filterwarnings('ignore')\n",
    "from IPython.core.display import HTML,display,Image\n",
    "display(HTML('<h3>Which countries/states are improving and which are getting worse?</h3><h4>The trend is determined by the last 14 days new cases trend.</h4><h3></h3>'))\n",
    "display(HTML('<a href=\"http://www.cov2response.com\"> Back to cov2response.com </a>'))"
   ]
  },
  {
   "cell_type": "code",
   "execution_count": 2,
   "metadata": {
    "collapsed": true
   },
   "outputs": [],
   "source": [
    "import pandas as pd\n",
    "import matplotlib.pyplot as plt\n",
    "g=!ls ../csse_covid_19_daily_reports/*.csv\n",
    "al=[]\n",
    "for f in g:\n",
    "    if pd.to_datetime(f.split('/')[-1][:10]) > pd.to_datetime('2020-03-25'):      \n",
    "        d=pd.read_csv(f)\n",
    "        d['dt']=pd.to_datetime(f.split('/')[-1][:10])\n",
    "        al.append(d)\n",
    "adt=pd.concat(al)\n",
    "adt.fillna('',inplace=True)\n",
    "adt['State_Country']=adt['Country_Region']+ ' '+ adt['Province_State']\n",
    "f=adt.groupby(by=['State_Country','dt']).sum().reset_index()\n",
    "us_only=adt[adt.Country_Region=='US'].groupby(by=['Country_Region','dt']).sum().reset_index().copy()\n",
    "us_only.columns= ['State_Country',         'dt',  'Confirmed',  'Deaths',  'Recovered',  'Active']\n",
    "f=pd.concat([f,us_only],axis=0).reset_index()\n",
    "del(f['index'])\n",
    "mydict={}\n",
    "for i in f.State_Country.unique():\n",
    "    if 'Spain' in i:\n",
    "        continue\n",
    "        \n",
    "    mydf=f[f.State_Country == i].copy()\n",
    "    if len(mydf)<14:\n",
    "        continue\n",
    "    mydf['NewCases']=mydf.Confirmed.diff()\n",
    "    if mydf['NewCases'].mean() <100:\n",
    "        continue\n",
    "    mydf=mydf.fillna(mydf.NewCases.min())\n",
    "    \n",
    "    mydf['NewCases2']=mydf.NewCases.rolling(7).mean()\n",
    "    \n",
    "    #plt.plot(mydf['NewCases'])\n",
    "    #plt.figure(figsize=(10,5))\n",
    "    #plt.plot(mydf['NewCases2'])\n",
    "    last_points=mydf['NewCases2'][-14:]\n",
    "    slope = np.polyfit(range(14),last_points,1)[0]\n",
    "    if slope > 0:\n",
    "        state='Getting Worse'\n",
    "    else:\n",
    "        state='Improving'\n",
    "    mydict[i]={'slope':slope,'max':mydf['NewCases2'].max(),#'last_points':last_points,\\\n",
    "               'all_points':mydf['NewCases2'].dropna().values}\n",
    "\n",
    "ft=pd.DataFrame(mydict).T\n",
    "ft['Type']=ft.slope.map( lambda x: 'Improving' if x < -1 else 'Getting Worse' if x > 1 else 'About Same')\n"
   ]
  },
  {
   "cell_type": "code",
   "execution_count": null,
   "metadata": {
    "collapsed": true
   },
   "outputs": [],
   "source": [
    "import matplotlib\n",
    "import matplotlib.pyplot as plt\n",
    "import base64\n",
    "from io import BytesIO\n",
    "import matplotlib as mpl\n",
    "import matplotlib.cm as cm\n",
    "norm = mpl.colors.Normalize(vmin=0, vmax=2000)\n",
    "cmap = plt.cm.Blues\n",
    "m = cm.ScalarMappable(norm=norm, cmap=cmap)\n",
    "\n",
    "def sparkline(data, figsize=(5, 3), **kwags):\n",
    "    \"\"\"\n",
    "    Returns a HTML image tag containing a base64 encoded sparkline style plot\n",
    "    \"\"\"\n",
    "    \n",
    "    data = list(data)\n",
    "    \n",
    " \n",
    "    fig, ax = plt.subplots(1, 1, figsize=figsize, **kwags)\n",
    "    ax.set_ylim(0,max(data)*1.2)\n",
    "    ax.plot(data)\n",
    "    \n",
    "    for k,v in ax.spines.items():\n",
    "        v.set_visible(False)\n",
    "    ax.set_xticks([])\n",
    "    ax.set_yticks([])\n",
    "    ax.set_ylim(0,max(data)*1.2)\n",
    "    \n",
    " \n",
    "    plt.plot(len(data) - 1, data[len(data) - 1], 'r.')\n",
    "    plt.text(len(data) - 1, data[len(data) - 1], np.round(data[len(data) - 1],-1).astype(int))\n",
    " \n",
    "    #ax.fill_between(range(len(data)), data, len(data)*[min(data)], alpha=0.8, color=m.to_rgba(np.mean(data)) )\n",
    "    ax.fill_between(range(len(data)), data, len(data)*[0], alpha=0.8, color=m.to_rgba(np.mean(data)) )\n",
    " \n",
    "    img = BytesIO()\n",
    "    plt.savefig(img, transparent=True, bbox_inches='tight')\n",
    "    img.seek(0)\n",
    "    plt.close()\n",
    " \n",
    "    return base64.b64encode(img.read()).decode(\"UTF-8\")\n",
    "\n",
    "pd.set_option('display.max_colwidth', -1)\n",
    "#p.loc[:,['fig']].style\n",
    "#p.loc[:,['fig']].style"
   ]
  },
  {
   "cell_type": "code",
   "execution_count": null,
   "metadata": {
    "scrolled": false
   },
   "outputs": [
    {
     "data": {
      "text/html": [
       "<h4>US States </h4>"
      ],
      "text/plain": [
       "<IPython.core.display.HTML object>"
      ]
     },
     "metadata": {},
     "output_type": "display_data"
    }
   ],
   "source": [
    "from IPython.core.display import HTML,display,Image\n",
    "display(HTML('<h4>US States </h4>'))\n",
    "t='Getting Worse'\n",
    "p=ft[ ((ft.Type==t) & ( ft.index.str.contains('US '))) ].sort_values(by='slope',ascending=False ).copy()\n",
    "p[t]=p.all_points.map( lambda x: '<img src=\"data:image/png;base64,{}\"/>'.format(sparkline(x)))\n",
    "a=p.loc[:,[t]].reset_index().copy()\n",
    "a.columns=[f'{t} Country/State',f'New Cases/day']\n",
    "#display(HTML(a.to_html(escape=False)))\n",
    "#display(HTML(p.loc[:,[t]].to_html(escape=False)))\n",
    "#print(p.slope)\n",
    "\n",
    "t='Improving'\n",
    "p=ft[((ft.Type==t) & ( ft.index.str.contains('US ')))].sort_values(by='slope',ascending=True ).copy()\n",
    "p[t]=p.all_points.map( lambda x: '<img src=\"data:image/png;base64,{}\"/>'.format(sparkline(x)))\n",
    "b=p.loc[:,[t]].reset_index().copy()\n",
    "b.columns=[f'{t} Country/State',f'NewCases/day']\n",
    "\n",
    "#display(HTML(p.loc[:,[t]].to_html(escape=False)))\n",
    "t='About Same'\n",
    "p=ft[((ft.Type==t) & ( ft.index.str.contains('US ')))].sort_values(by='slope',ascending=True ).copy()\n",
    "p[t]=p.all_points.map( lambda x: '<img src=\"data:image/png;base64,{}\"/>'.format(sparkline(x)))\n",
    "c=p.loc[:,[t]].reset_index().copy()\n",
    "c.columns=[f'{t} Country/State',f'newcases per day']\n",
    "#display(HTML(p.loc[:,[t]].to_html(escape=False)))\n",
    "\n",
    "pd.concat([a,b,c],axis=1).fillna('').style.hide_index().set_properties(**{\n",
    "    'font-size': '15pt',\n",
    "})"
   ]
  },
  {
   "cell_type": "code",
   "execution_count": null,
   "metadata": {
    "scrolled": false
   },
   "outputs": [],
   "source": [
    "from IPython.core.display import HTML,display,Image\n",
    "display(HTML('<h4>Global </h4>'))\n",
    "t='Getting Worse'\n",
    "p=ft[ ((ft.Type==t) & (~ ft.index.str.contains('US '))) ].sort_values(by='slope',ascending=False ).copy()\n",
    "p[t]=p.all_points.map( lambda x: '<img src=\"data:image/png;base64,{}\"/>'.format(sparkline(x)))\n",
    "a=p.loc[:,[t]].reset_index().copy()\n",
    "a.columns=[f'{t} Country/State',f'New Cases/day']\n",
    "#display(HTML(a.to_html(escape=False)))\n",
    "#display(HTML(p.loc[:,[t]].to_html(escape=False)))\n",
    "#print(p.slope)\n",
    "\n",
    "t='Improving'\n",
    "p=ft[((ft.Type==t) & ( ~ft.index.str.contains('US ')))].sort_values(by='slope',ascending=True ).copy()\n",
    "p[t]=p.all_points.map( lambda x: '<img src=\"data:image/png;base64,{}\"/>'.format(sparkline(x)))\n",
    "b=p.loc[:,[t]].reset_index().copy()\n",
    "b.columns=[f'{t} Country/State',f'NewCases/day']\n",
    "\n",
    "#display(HTML(p.loc[:,[t]].to_html(escape=False)))\n",
    "t='About Same'\n",
    "p=ft[((ft.Type==t) & ( ~ft.index.str.contains('US ')))].sort_values(by='slope',ascending=True ).copy()\n",
    "p[t]=p.all_points.map( lambda x: '<img src=\"data:image/png;base64,{}\"/>'.format(sparkline(x)))\n",
    "c=p.loc[:,[t]].reset_index().copy()\n",
    "c.columns=[f'{t} Country/State',f'newcases per day']\n",
    "#display(HTML(p.loc[:,[t]].to_html(escape=False)))\n",
    "pd.concat([a,b,c],axis=1).fillna('').style.hide_index().set_properties(**{\n",
    "    'font-size': '15pt',\n",
    "})"
   ]
  },
  {
   "cell_type": "code",
   "execution_count": null,
   "metadata": {},
   "outputs": [],
   "source": [
    "from IPython.core.display import HTML,display,Image\n",
    "display(HTML('<a href=\"http://www.cov2response.com\"> Back to cov2response.com </a>'))\n",
    "print(f'Generated on {datetime.datetime.now()}')"
   ]
  },
  {
   "cell_type": "code",
   "execution_count": null,
   "metadata": {
    "collapsed": true
   },
   "outputs": [],
   "source": []
  }
 ],
 "metadata": {
  "kernelspec": {
   "display_name": "Python 3",
   "language": "python",
   "name": "python3"
  },
  "language_info": {
   "codemirror_mode": {
    "name": "ipython",
    "version": 3
   },
   "file_extension": ".py",
   "mimetype": "text/x-python",
   "name": "python",
   "nbconvert_exporter": "python",
   "pygments_lexer": "ipython3",
   "version": "3.6.1"
  }
 },
 "nbformat": 4,
 "nbformat_minor": 2
}
